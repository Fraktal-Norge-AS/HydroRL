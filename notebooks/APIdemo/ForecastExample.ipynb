{
 "cells": [
  {
   "cell_type": "markdown",
   "id": "3f764dc2",
   "metadata": {},
   "source": [
    "# Forecast examples\n",
    "This notebook demonstrates how to read and upload forecasts"
   ]
  },
  {
   "cell_type": "code",
   "execution_count": null,
   "id": "23e49e78",
   "metadata": {},
   "outputs": [],
   "source": [
    "import sys, os\n",
    "sys.path.insert(1, os.path.join(sys.path[0], '../..'))"
   ]
  },
  {
   "cell_type": "code",
   "execution_count": null,
   "id": "b80d2d75",
   "metadata": {},
   "outputs": [],
   "source": [
    "import pandas as pd\n",
    "import numpy as np\n",
    "from hps_api_client.apiproxy import ApiProxy"
   ]
  },
  {
   "cell_type": "markdown",
   "id": "de1d3d26",
   "metadata": {},
   "source": [
    "## Create a API client and query forecasts"
   ]
  },
  {
   "cell_type": "code",
   "execution_count": null,
   "id": "c61a5b19",
   "metadata": {},
   "outputs": [],
   "source": [
    "client = ApiProxy(uri = \"http://leviathan:5400/api/v1/\")"
   ]
  },
  {
   "cell_type": "markdown",
   "id": "ca3b867d",
   "metadata": {},
   "source": [
    "Forecasts are tied to a hydro system and we will start by listing those available and choosing Flørli as the system we will be working on"
   ]
  },
  {
   "cell_type": "code",
   "execution_count": null,
   "id": "5e4625b4",
   "metadata": {},
   "outputs": [],
   "source": [
    "hydro_systems = client.get_hydro_systems()\n",
    "selected_hydro_system = hydro_systems[0]\n",
    "selected_hydro_system"
   ]
  },
  {
   "cell_type": "markdown",
   "id": "575f0724",
   "metadata": {},
   "source": [
    "We can now list all forecasts available for our hydro system."
   ]
  },
  {
   "cell_type": "code",
   "execution_count": null,
   "id": "edb3301c",
   "metadata": {
    "scrolled": true
   },
   "outputs": [],
   "source": [
    "forecasts = client.get_forecasts(selected_hydro_system)\n",
    "forecasts"
   ]
  },
  {
   "cell_type": "markdown",
   "id": "717eba74",
   "metadata": {},
   "source": [
    "Lets pick one and list available scenarios."
   ]
  },
  {
   "cell_type": "code",
   "execution_count": null,
   "id": "b08fc75d",
   "metadata": {},
   "outputs": [],
   "source": [
    "selected_forecast = forecasts[0]\n",
    "scenarios = client.get_forecast_scenarios(selected_forecast)\n",
    "print(scenarios)"
   ]
  },
  {
   "cell_type": "markdown",
   "id": "51d3e5e3",
   "metadata": {},
   "source": [
    "We can retrieve data for a single scenario..."
   ]
  },
  {
   "cell_type": "code",
   "execution_count": null,
   "id": "3ee7117e",
   "metadata": {},
   "outputs": [],
   "source": [
    "client.get_scenario_data(selected_forecast, \"2014\")"
   ]
  },
  {
   "cell_type": "markdown",
   "id": "f8f5472a",
   "metadata": {},
   "source": [
    ".. or read all scenarions in one go."
   ]
  },
  {
   "cell_type": "code",
   "execution_count": null,
   "id": "ed19ca05",
   "metadata": {},
   "outputs": [],
   "source": [
    "data = client.get_forecast_data(selected_forecast)\n",
    "data"
   ]
  },
  {
   "cell_type": "markdown",
   "id": "06c50a2b",
   "metadata": {},
   "source": [
    "Note that the dataframe above has a MultiIndex and is accessed by both scenario and series type."
   ]
  },
  {
   "cell_type": "code",
   "execution_count": null,
   "id": "e1e4b2c7",
   "metadata": {},
   "outputs": [],
   "source": [
    "data[(\"Price\", \"2013\")].plot()"
   ]
  },
  {
   "cell_type": "markdown",
   "id": "780def8a",
   "metadata": {},
   "source": [
    "Alternativly we can access all prices or inflows by using the primary index."
   ]
  },
  {
   "cell_type": "code",
   "execution_count": null,
   "id": "efa01516",
   "metadata": {},
   "outputs": [],
   "source": [
    "data[\"Price\"].plot(figsize=(20,13))"
   ]
  },
  {
   "cell_type": "markdown",
   "id": "ddb5a90b",
   "metadata": {},
   "source": [
    "We now want to add a new forecast to our chosen hydro system. The add_forecast method accepts a pandas DataFrame of the same format that we retrieved above. Lets build it.."
   ]
  },
  {
   "cell_type": "code",
   "execution_count": null,
   "id": "bcd11ea9",
   "metadata": {},
   "outputs": [],
   "source": [
    "data = {}\n",
    "dates = pd.date_range(\"2020-12-31 23:00:00+00:00\", \"2025-12-31 23:00:00+00:00\",freq='1d')\n",
    "\n",
    "for year in range(2000, 2030):\n",
    "    scenario = str(year)\n",
    "    prices = np.random.random(len(dates)) * 60\n",
    "    inflows = np.random.random(len(dates)) * 20\n",
    "    \n",
    "    data[(\"Price\", scenario)] = prices\n",
    "    data[(\"Inflow\", scenario)] = inflows\n",
    "    \n",
    "df = pd.DataFrame(data)\n",
    "df[\"Date\"] = dates\n",
    "df.set_index(\"Date\", inplace=True)\n",
    "\n",
    "df"
   ]
  },
  {
   "cell_type": "markdown",
   "id": "4b567e63",
   "metadata": {},
   "source": [
    "## Upload a forecast\n",
    "When uploading we have to specify a name for the new forecast and the hydro system that we want to associate it with."
   ]
  },
  {
   "cell_type": "code",
   "execution_count": null,
   "id": "d1bc99db",
   "metadata": {},
   "outputs": [],
   "source": [
    "client.add_forecast(\"Demo forecast\", selected_hydro_system, df)"
   ]
  },
  {
   "cell_type": "markdown",
   "id": "cd09f751",
   "metadata": {},
   "source": [
    "Finally, lets verify that the forecast is in place and ready for training and evaluation."
   ]
  },
  {
   "cell_type": "code",
   "execution_count": null,
   "id": "68dfa89b",
   "metadata": {},
   "outputs": [],
   "source": [
    "new_forecast = client.get_forecasts(selected_hydro_system)[-1]\n",
    "client.get_forecast_data(new_forecast)"
   ]
  },
  {
   "cell_type": "code",
   "execution_count": null,
   "id": "cbd5606c",
   "metadata": {},
   "outputs": [],
   "source": []
  }
 ],
 "metadata": {
  "kernelspec": {
   "display_name": "hps_env",
   "language": "python",
   "name": "hps_env"
  },
  "language_info": {
   "codemirror_mode": {
    "name": "ipython",
    "version": 3
   },
   "file_extension": ".py",
   "mimetype": "text/x-python",
   "name": "python",
   "nbconvert_exporter": "python",
   "pygments_lexer": "ipython3",
   "version": "3.7.15"
  },
  "toc": {
   "base_numbering": 1,
   "nav_menu": {},
   "number_sections": true,
   "sideBar": true,
   "skip_h1_title": false,
   "title_cell": "Table of Contents",
   "title_sidebar": "Contents",
   "toc_cell": false,
   "toc_position": {},
   "toc_section_display": true,
   "toc_window_display": false
  }
 },
 "nbformat": 4,
 "nbformat_minor": 5
}
