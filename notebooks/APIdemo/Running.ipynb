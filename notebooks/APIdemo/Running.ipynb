{
 "cells": [
  {
   "cell_type": "markdown",
   "metadata": {},
   "source": [
    "# Getting started\n",
    "This notebook demonstrates the basic functionality of the HPS API and shows how to start a training session and run evaluations. "
   ]
  },
  {
   "cell_type": "code",
   "execution_count": null,
   "metadata": {},
   "outputs": [],
   "source": [
    "import sys, os\n",
    "sys.path.insert(1, os.path.join(sys.path[0], '../..'))"
   ]
  },
  {
   "cell_type": "code",
   "execution_count": null,
   "metadata": {},
   "outputs": [],
   "source": [
    "import pandas as pd\n",
    "import numpy as np\n",
    "#from hps_client_sdk.apiproxy import ApiProxy\n",
    "from matplotlib import pyplot as plt\n",
    "from hps_api_client.apiproxy import ApiProxy"
   ]
  },
  {
   "cell_type": "markdown",
   "metadata": {},
   "source": [
    "## Create client\n",
    " - The ApiProxy client facilitates access to the api functions and provides classes that wrap the json objects which are exchanged with the server\n",
    " - The proxy is preconfigured to point at the api"
   ]
  },
  {
   "cell_type": "code",
   "execution_count": null,
   "metadata": {},
   "outputs": [],
   "source": [
    "client = ApiProxy(uri = \"http://leviathan:5400/api/v1/\")\n",
    "#help(ApiProxy)"
   ]
  },
  {
   "cell_type": "markdown",
   "metadata": {},
   "source": [
    "## List available projects\n",
    " - Projects are a means to organize trainig sessions\n",
    " - All projects created by any user will be listed"
   ]
  },
  {
   "cell_type": "code",
   "execution_count": null,
   "metadata": {},
   "outputs": [],
   "source": [
    "projects = client.get_projects()\n",
    "projects"
   ]
  },
  {
   "cell_type": "markdown",
   "metadata": {},
   "source": [
    "## List hydrosystems\n",
    "Hydro systems are pre-configured for our customers and cannot be added through the API.\n",
    " "
   ]
  },
  {
   "cell_type": "code",
   "execution_count": null,
   "metadata": {},
   "outputs": [],
   "source": [
    "hydro_systems = client.get_hydro_systems()\n",
    "hydro_system = hydro_systems[0]\n",
    "hydro_systems"
   ]
  },
  {
   "cell_type": "markdown",
   "metadata": {},
   "source": [
    "## Create a new project\n",
    "For this tutorial we will create a new project for the hydro system Flørli"
   ]
  },
  {
   "cell_type": "code",
   "execution_count": null,
   "metadata": {},
   "outputs": [],
   "source": [
    "project_name = \"Comp TF vs SB 2*364 days\"\n",
    "selected_hydro_system = hydro_systems[0]\n",
    "#new_project = client.create_project(project_name, selected_hydro_system)\n",
    "new_project = projects[-1]"
   ]
  },
  {
   "cell_type": "markdown",
   "metadata": {},
   "source": [
    "## Get forecasts\n",
    "We are going to pick a forecast to train our agent on. First we list available forecasts."
   ]
  },
  {
   "cell_type": "code",
   "execution_count": null,
   "metadata": {
    "scrolled": false,
    "tags": []
   },
   "outputs": [],
   "source": [
    "forecasts = client.get_forecasts(selected_hydro_system)\n",
    "forecasts"
   ]
  },
  {
   "cell_type": "markdown",
   "metadata": {},
   "source": [
    "We will use the most recent forecast "
   ]
  },
  {
   "cell_type": "code",
   "execution_count": null,
   "metadata": {},
   "outputs": [],
   "source": [
    "selected_forecast = forecasts[-1]\n",
    "selected_forecast"
   ]
  },
  {
   "cell_type": "markdown",
   "metadata": {},
   "source": [
    "## Get reservoirs for hydro system"
   ]
  },
  {
   "cell_type": "code",
   "execution_count": null,
   "metadata": {},
   "outputs": [],
   "source": [
    "reservoirs = client.get_reservoirs(selected_hydro_system)\n",
    "reservoirs"
   ]
  },
  {
   "cell_type": "markdown",
   "metadata": {},
   "source": [
    "## Start training\n",
    "When starting a training run, a settings object has to be provided. A template for these settings can be retrieved from the API."
   ]
  },
  {
   "cell_type": "code",
   "execution_count": null,
   "metadata": {
    "scrolled": false
   },
   "outputs": [],
   "source": [
    "settings = client.get_settings_template(new_project)\n",
    "print(settings.to_json())"
   ]
  },
  {
   "cell_type": "markdown",
   "metadata": {},
   "source": [
    "Before starting the run, we will modify some of the settings"
   ]
  },
  {
   "cell_type": "code",
   "execution_count": null,
   "metadata": {},
   "outputs": [],
   "source": [
    "from core.noise import Noise\n",
    "from hps.rl.environment.end_value_type import EndStateIncentive\n",
    "from server.setting_combiner import StepResolution\n",
    "\n",
    "# It is impotant to give the run a description, so we can identfy it later\n",
    "TRAIN_STEPS = 10000000\n",
    "\n",
    "settings.stepsInEpisode = 364*4\n",
    "settings.trainEpisodes = TRAIN_STEPS//settings.stepsInEpisode\n",
    "settings.evaluationInterval = 30\n",
    "settings.rewardScaleFactor = 1\n",
    "settings.noise = Noise.White\n",
    "settings.endStateIncentive = EndStateIncentive.ProvidedEndEnergyPrice\n",
    "settings.endEnergyPrice = 30\n",
    "settings.stepResolution = StepResolution.Day\n",
    "settings.evaluationEpisodes = 30\n",
    "\n",
    "settings.comment = \"SAC SB SDE+OUAN+LRDEC 1 price + lin + vol + flow\"\n",
    "settings.algo = \"SAC\"\n",
    "# We are setting all initial reservoir volums to half capasity\n",
    "settings.startVolumes = {}\n",
    "for r in reservoirs:\n",
    "    settings.startVolumes[r.name] = r.maxVolume / 2\n",
    "    \n",
    "    \n",
    "print(settings.to_json())"
   ]
  },
  {
   "cell_type": "markdown",
   "metadata": {},
   "source": [
    "We can now start the trainig session in the context of our new project and using the forcast and settings as specified above"
   ]
  },
  {
   "cell_type": "code",
   "execution_count": null,
   "metadata": {},
   "outputs": [],
   "source": [
    "run = client.run(new_project, selected_forecast, settings)\n",
    "run"
   ]
  },
  {
   "cell_type": "code",
   "execution_count": null,
   "metadata": {},
   "outputs": [],
   "source": [
    "client.terminate_run(runs[-1])"
   ]
  },
  {
   "cell_type": "markdown",
   "metadata": {},
   "source": [
    "As we can see above, initially the run has neither start- nor endTime specified. As soon as the backend starts the training process, the startTime will be set. When the training process has completed the endTime will also be specified.\n",
    "We can now call get_runs for our project to the status of our run."
   ]
  },
  {
   "cell_type": "code",
   "execution_count": null,
   "metadata": {
    "scrolled": false
   },
   "outputs": [],
   "source": [
    "runs = client.get_runs(new_project)\n",
    "runs"
   ]
  },
  {
   "cell_type": "code",
   "execution_count": null,
   "metadata": {},
   "outputs": [],
   "source": [
    "# Runs 5 and 6 are L2 5e-2, not 5e-3\n",
    "runs = client.get_runs(new_project)\n",
    "from datetime import datetime as dt\n",
    "from dateutil.parser import parse\n",
    "import pytz\n",
    "\n",
    "for run in runs:\n",
    "    if run.endTime is None:\n",
    "        end_time = dt.utcnow().replace(tzinfo=pytz.utc)\n",
    "    else:\n",
    "        end_time = parse(run.endTime)\n",
    "    start_time = parse(run.startTime)\n",
    "    print(end_time - start_time, \" \", run.name)"
   ]
  },
  {
   "cell_type": "markdown",
   "metadata": {},
   "source": [
    "During training it can be useful to monitor the progress. The show_progress method will display the maximum reward achieved  over time, and can be a good way to identify convergence."
   ]
  },
  {
   "cell_type": "code",
   "execution_count": null,
   "metadata": {},
   "outputs": [],
   "source": [
    "def plot_and_analyze(run, tag = \"Test Return\"):\n",
    "    data = client.api_client.get_run_details(run.uid, tag=tag, plot_only=False)\n",
    "    plt.grid()\n",
    "    means = []\n",
    "    lasts = []\n",
    "    for i, d in enumerate(data):       \n",
    "        means.append(np.mean(d[\"values\"]))\n",
    "        lasts.append(d[\"values\"][-1])\n",
    "    print(np.mean(means), np.mean(lasts), np.min(lasts), np.max(lasts))\n",
    "    \n",
    "def plot_train_return(run):\n",
    "    plot_and_analyze(run, \"Train return\")\n",
    "    \n",
    "def plot_loss(run):\n",
    "    plot_and_analyze(run, \"Loss\")"
   ]
  },
  {
   "cell_type": "code",
   "execution_count": null,
   "metadata": {},
   "outputs": [],
   "source": [
    "def moving_average(a, n=20) :\n",
    "    ret = np.cumsum(a, dtype=float)\n",
    "    ret[n:] = ret[n:] - ret[:-n]\n",
    "    return ret[n - 1:] / n\n",
    "\n",
    "data = client.api_client.get_run_details(runs[-1].uid, tag=\"Test Return\", plot_only=False)\n",
    "#data = client.api_client.get_run_details(runs[-1].uid, tag=\"Critic loss\", plot_only=False)\n",
    "#data = client.api_client.get_run_details(runs[-2].uid, tag=\"Critic loss\", plot_only=False)\n",
    "for d in data:\n",
    "    xs = d[\"steps\"]\n",
    "    ys = d[\"values\"]\n",
    "    N = 100\n",
    "#    print(ys)\n",
    "#    ys = np.convolve(ys, np.ones(N)/N, mode='valid')\n",
    "#    print(ys)\n",
    "    plt.plot( ys)"
   ]
  },
  {
   "cell_type": "code",
   "execution_count": null,
   "metadata": {},
   "outputs": [],
   "source": [
    "for d in data:\n",
    "    xs = d[\"steps\"]\n",
    "    ys = moving_average(d[\"values\"], n=5)\n",
    "    plt.plot(ys)"
   ]
  },
  {
   "cell_type": "code",
   "execution_count": null,
   "metadata": {},
   "outputs": [],
   "source": [
    "plt.subplots(1)\n",
    "plot_and_analyze(runs[-1])\n",
    "plt.subplots(1)\n",
    "plot_and_analyze(runs[-1], tag=\"Best return\")"
   ]
  },
  {
   "cell_type": "code",
   "execution_count": null,
   "metadata": {},
   "outputs": [],
   "source": [
    "#plot_loss(runs[-2]) \n",
    "plot_and_analyze(runs[-1], tag =\"Critic loss\") #plot_train_return(runs[-1]"
   ]
  },
  {
   "cell_type": "code",
   "execution_count": null,
   "metadata": {
    "scrolled": true
   },
   "outputs": [],
   "source": [
    "#plot_loss(runs[-2]) \n",
    "plot_and_analyze(runs[-1], tag =\"Actor loss\") #plot_train_return(runs[-1])"
   ]
  },
  {
   "cell_type": "code",
   "execution_count": null,
   "metadata": {},
   "outputs": [],
   "source": [
    "def fetch_data(uid, rsf=1.0):\n",
    "    cli = client.api_client\n",
    "    details_uri = cli.uri + \"projectruns/\" + uid + \"/rundetails\"\n",
    "    details, _ = cli.fetch(details_uri)\n",
    "\n",
    "    test_return_datas = [d for d in details[\"status\"] if d[\"name\"] == \"Test Return\"]\n",
    "    \n",
    "    result = {}\n",
    "    for dd in test_return_datas:\n",
    "        for step, val in zip(dd[\"steps\"], dd[\"values\"]):\n",
    "            if not step in result:\n",
    "                result[step] = []\n",
    "            result[step].append(val/rsf)\n",
    "    \n",
    "    return result"
   ]
  },
  {
   "cell_type": "code",
   "execution_count": null,
   "metadata": {},
   "outputs": [],
   "source": [
    "def get_plot_data(uid, rsf):\n",
    "    data = fetch_data(uid, rsf)\n",
    "    steps = [int(v) for v in data.keys()]\n",
    "\n",
    "    xs = []\n",
    "    ys = []\n",
    "    max_val = 0\n",
    "    for s in steps:\n",
    "        val = max(data[s])\n",
    "        if val > max_val:\n",
    "            max_val = val\n",
    "            xs.append(s)\n",
    "            ys.append(val)\n",
    "    return xs, ys"
   ]
  },
  {
   "cell_type": "code",
   "execution_count": null,
   "metadata": {},
   "outputs": [],
   "source": [
    "def get_stat_data(uid, rsf, max_step=500000):\n",
    "    data = fetch_data(uid, rsf)\n",
    "    steps = [int(v) for v in data.keys()]\n",
    "\n",
    "    xs = []\n",
    "    means = []\n",
    "    mins = []\n",
    "    maxs = []\n",
    "    dev = []\n",
    "    \n",
    "    max_val = 0\n",
    "    for s in steps:\n",
    "        if s > max_step: break\n",
    "        xs.append(s)\n",
    "        means.append(np.mean(data[s]))\n",
    "        dev.append(np.std(data[s]))\n",
    "        maxs.append(np.max(data[s]))\n",
    "        mins.append(np.min(data[s]))\n",
    "    return np.array(xs), np.array(means), np.array(mins), np.array(maxs), np.array(dev)"
   ]
  },
  {
   "cell_type": "code",
   "execution_count": null,
   "metadata": {
    "scrolled": false
   },
   "outputs": [],
   "source": [
    "import matplotlib.colors as mcolors\n",
    "runs = client.get_runs(new_project)\n",
    "colors = list(mcolors.TABLEAU_COLORS)\n",
    "markers = [\"+\", \"x\", \"v\", \"o\", \"P\", \"H\", \"h\", \"o\", \".\", \"+\", \"x\", \"v\", \"o\", \"P\", \"H\", \"h\", \"o\", \".\"]\n",
    "best = []\n",
    "last = []\n",
    "\n",
    "fix, ax = plt.subplots(figsize=(20,10))\n",
    "ind = 0\n",
    "\n",
    "sel_runs = []\n",
    "for i, r in enumerate(runs):\n",
    "    if not i in [50] : sel_runs.append(r)\n",
    "\n",
    "STDDEV = False\n",
    "\n",
    "for i, prun in enumerate(sel_runs):    \n",
    "    xs, ys, mins, maxs, dev = get_stat_data(prun.uid, prun.settings.rewardScaleFactor, max_step = 1600000)\n",
    "                    \n",
    "    if len(ys) > 0:\n",
    "        plt.plot(xs, ys, \"-\" + markers[ind], label=prun.settings.comment, color = colors[ind])\n",
    "        if STDDEV:            \n",
    "            plt.fill_between(xs, ys - dev, ys + dev, color=colors[ind], alpha=0.2)\n",
    "        else:\n",
    "            plt.fill_between(xs, mins, maxs, color=colors[ind], alpha=0.2)\n",
    "        best.append(np.max(maxs))\n",
    "        last.append((prun.name, xs[-1], ys[-1]))\n",
    "    ind += 1\n",
    "    \n",
    "plt.legend(loc='lower left')\n",
    "plt.grid(True)\n",
    "#ax.set_ylim([13.5,15.5])\n",
    "print(best, np.max(best))\n",
    "print(last)"
   ]
  },
  {
   "cell_type": "code",
   "execution_count": null,
   "metadata": {},
   "outputs": [],
   "source": [
    "x = np.array([0,1,2,3,4,5,6,7,8,9])\n",
    "for a in range(520):\n",
    "#    plt.plot(action_noise.call())\n",
    "    x = x +21\n",
    "    \n",
    "    \n",
    "noise = 0.1*np.random.normal(0.0,0.1,5)\n",
    "noise\n",
    "\n",
    "plt.plot(0.1 * (9 * np.linspace(1.0,0.0,20) + 1) * 1e-3)"
   ]
  },
  {
   "cell_type": "code",
   "execution_count": null,
   "metadata": {
    "scrolled": true
   },
   "outputs": [],
   "source": [
    "r = runs[-1]\n",
    "client.plot_solution(r)\n",
    "r.name"
   ]
  },
  {
   "cell_type": "code",
   "execution_count": null,
   "metadata": {
    "scrolled": false
   },
   "outputs": [],
   "source": [
    "r = runs[-2]\n",
    "client.plot_solution(r)\n",
    "r.name"
   ]
  },
  {
   "cell_type": "markdown",
   "metadata": {},
   "source": [
    "At any time during or after training we can retrieve the best solution produced by the agent."
   ]
  },
  {
   "cell_type": "code",
   "execution_count": null,
   "metadata": {},
   "outputs": [],
   "source": [
    "sol1 = client.get_solution(runs[-2])"
   ]
  },
  {
   "cell_type": "code",
   "execution_count": null,
   "metadata": {},
   "outputs": [],
   "source": [
    "price = sol1[\"Energy_Price\"]\n",
    "power = sol1[\"Sum_MWh\"]\n",
    "vol = sol1[\"Flørlivatn\"]\n",
    "\n",
    "price_std = price.std(axis = 1).values\n",
    "price_mean = price.mean(axis = 1).values\n",
    "\n",
    "prod_std = power.std(axis = 1).values\n",
    "prod_mean = power.mean(axis = 1).values\n",
    "\n",
    "vol_std = vol.std(axis = 1).values\n",
    "vol_mean = vol.mean(axis = 1).values\n",
    "\n",
    "\n",
    "x = np.arange(0, len(price))\n",
    "\n",
    "_,ax = plt.subplots(3, 1,figsize=(20,10))\n",
    "\n",
    "\n",
    "ax[0].plot(x, price_mean, \"-\" + markers[0], label=\"Price\", color = colors[0])\n",
    "ax[0].fill_between(x, price_mean - price_std, price_mean + price_std, color=colors[0], alpha=0.2)\n",
    "\n",
    "ax[1].plot(x, vol_mean, \"-\" + markers[0], label=\"Price\", color = colors[0])\n",
    "ax[1].fill_between(x, vol_mean - vol_std, vol_mean + vol_std, color=colors[0], alpha=0.2)\n",
    "\n",
    "ax[2].plot(x, prod_mean, \"-\" + markers[0], label=\"Price\", color = colors[0])\n",
    "ax[2].fill_between(x, prod_mean - prod_std, prod_mean + prod_std, color=colors[0], alpha=0.2)\n"
   ]
  },
  {
   "cell_type": "code",
   "execution_count": null,
   "metadata": {},
   "outputs": [],
   "source": [
    "sol2 = client.get_solution(runs[-3])"
   ]
  },
  {
   "cell_type": "code",
   "execution_count": null,
   "metadata": {},
   "outputs": [],
   "source": [
    "df = pd.DataFrame(sol2[\"Sum_money\"].sum())\n",
    "df[\"1\"] = sol1[\"Sum_money\"].sum()\n",
    "\n",
    "df.columns = [\"with\", \"without\"]\n",
    "df.plot.bar(figsize=(20,20))\n",
    "#sol2[\"Sum_MWh\"].sum().plot.bar()\n",
    "#sol1[\"Sum_MWh\"].sum().plot.bar()\n",
    "\n",
    "#- sol1[\"Sum_MWh\"].sum()).plot.bar(figsize=(20,20))\n"
   ]
  },
  {
   "cell_type": "code",
   "execution_count": null,
   "metadata": {},
   "outputs": [],
   "source": [
    "price = sol2[\"Energy_Price\"]\n",
    "power = sol2[\"Sum_MWh\"]\n",
    "vol = sol2[\"Flørlivatn\"]\n",
    "\n",
    "price_std = price.std(axis = 1).values\n",
    "price_mean = price.mean(axis = 1).values\n",
    "\n",
    "prod_std = power.std(axis = 1).values\n",
    "prod_mean = power.mean(axis = 1).values\n",
    "\n",
    "vol_std = vol.std(axis = 1).values\n",
    "vol_mean = vol.mean(axis = 1).values\n",
    "\n",
    "x = np.arange(0, len(prod_std))\n",
    "\n",
    "_,ax = plt.subplots(3, 1,figsize=(20,10))\n",
    "\n",
    "\n",
    "ax[0].plot(x, price_mean, \"-\" + markers[0], label=\"Price\", color = colors[0])\n",
    "ax[0].fill_between(x, price_mean - price_std, price_mean + price_std, color=colors[0], alpha=0.2)\n",
    "\n",
    "ax[1].plot(x, vol_mean, \"-\" + markers[0], label=\"Price\", color = colors[0])\n",
    "ax[1].fill_between(x, vol_mean - vol_std, vol_mean + vol_std, color=colors[0], alpha=0.2)\n",
    "\n",
    "ax[2].plot(x, prod_mean, \"-\" + markers[0], label=\"Price\", color = colors[0])\n",
    "ax[2].fill_between(x, prod_mean - prod_std, prod_mean + prod_std, color=colors[0], alpha=0.2)\n"
   ]
  },
  {
   "cell_type": "code",
   "execution_count": null,
   "metadata": {},
   "outputs": [],
   "source": [
    "price = sol2[\"Energy_Price\"]\n",
    "power = sol2[\"Sum_MWh\"]\n",
    "vol = sol2[\"Flørlivatn\"]\n",
    "\n",
    "price_std = price.std(axis = 1).values\n",
    "price_mean = price.mean(axis = 1).values\n",
    "\n",
    "prod_std = power.std(axis = 1).values\n",
    "prod_mean = power.mean(axis = 1).values\n",
    "\n",
    "vol_std = vol.std(axis = 1).values\n",
    "vol_mean = vol.mean(axis = 1).values\n",
    "\n",
    "x = np.arange(0, len(prod_std))\n",
    "\n",
    "_,ax = plt.subplots(5, 1,figsize=(20,10))\n",
    "\n",
    "\n",
    "ax[0].plot(x, price_mean, \"-\" + markers[0], label=\"Price\", color = colors[0])\n",
    "ax[0].fill_between(x, price_mean - price_std, price_mean + price_std, color=colors[0], alpha=0.2)\n",
    "\n",
    "ax[1].plot(x, vol_mean, \"-\" + markers[0], label=\"Price\", color = colors[1])\n",
    "ax[1].fill_between(x, vol_mean - vol_std, vol_mean + vol_std, color=colors[1], alpha=0.2)\n",
    "\n",
    "ax[2].plot(x, prod_mean, \"-\" + markers[0], label=\"Price\", color = colors[1])\n",
    "ax[2].fill_between(x, prod_mean - prod_std, prod_mean + prod_std, color=colors[1], alpha=0.2)\n",
    "\n",
    "power = sol1[\"Sum_MWh\"]\n",
    "vol = sol1[\"Flørlivatn\"]\n",
    "prod_std = power.std(axis = 1).values\n",
    "prod_mean = power.mean(axis = 1).values\n",
    "vol_std = vol.std(axis = 1).values\n",
    "vol_mean = vol.mean(axis = 1).values\n",
    "\n",
    "ax[3].plot(x, vol_mean, \"-\" + markers[0], label=\"Price\", color = colors[2])\n",
    "ax[3].fill_between(x, vol_mean - vol_std, vol_mean + vol_std, color=colors[2], alpha=0.2)\n",
    "\n",
    "ax[4].plot(x, prod_mean, \"-\" + markers[0], label=\"Price\", color = colors[2])\n",
    "ax[4].fill_between(x, prod_mean - prod_std, prod_mean + prod_std, color=colors[2], alpha=0.2)\n"
   ]
  },
  {
   "cell_type": "code",
   "execution_count": null,
   "metadata": {
    "scrolled": true
   },
   "outputs": [],
   "source": [
    "def get_money(run, reservoirs, end_price):\n",
    "    solution = client.api_client.best_solution(run.uid)\n",
    "    solution = ApiReportData(solution)\n",
    "    data = client.build_data_frame(solution)\n",
    "    money = data[\"Sum_money\"].sum().sum()\n",
    "    \n",
    "    r_sum = 0\n",
    "    for r in reservoirs:\n",
    "        sub = data[r.name]\n",
    "        \n",
    "        for col in sub.columns:\n",
    "            r_sum += sub[col].values[-1]\n",
    "    \n",
    "    rest = r_sum * end_price * 10**3 * 1.8491997820234045\n",
    "    return {\"production\" : money, \"rest\" :  rest, \"sum\" : money + rest}\n",
    "    "
   ]
  },
  {
   "cell_type": "code",
   "execution_count": null,
   "metadata": {},
   "outputs": [],
   "source": [
    "labels = []\n",
    "prod = []\n",
    "rest = []\n",
    "\n",
    "\n",
    "for i, run in enumerate(runs.values):\n",
    "    if not i in [2,3]: continue \n",
    "    res = get_money(run, reservoirs, settings.endEnergyPrice)\n",
    "    print(run.name, res[\"sum\"])\n",
    "    labels.append(run.name)\n",
    "    prod.append(res[\"production\"])\n",
    "    rest.append(res[\"rest\"])\n",
    "    \n",
    "width = 0.25       # the width of the bars: can also be len(x) sequence\n",
    "\n",
    "fig, ax = plt.subplots(figsize=(20,10))\n",
    "\n",
    "print(len(prod),len(rest))\n",
    "\n",
    "ax.bar(labels, prod, width, label='production')\n",
    "ax.bar(labels, rest, width, bottom=prod, label='Rest')\n",
    "\n",
    "ax.set_ylabel('Reward')\n",
    "ax.set_ylim([1261000000,1267000000])\n",
    "ax.legend()\n",
    "\n",
    "plt.grid(True)\n",
    "plt.show()"
   ]
  },
  {
   "cell_type": "code",
   "execution_count": null,
   "metadata": {},
   "outputs": [],
   "source": [
    "1264370646.0746615 - rest[0]\n"
   ]
  },
  {
   "cell_type": "code",
   "execution_count": null,
   "metadata": {},
   "outputs": [],
   "source": [
    "data[\"Flørlivatn\"].columns"
   ]
  },
  {
   "cell_type": "markdown",
   "metadata": {},
   "source": [
    "A training session can be terminated before it has run to completion."
   ]
  },
  {
   "cell_type": "code",
   "execution_count": null,
   "metadata": {},
   "outputs": [],
   "source": [
    "client.terminate_run(runs[-1])"
   ]
  },
  {
   "cell_type": "code",
   "execution_count": null,
   "metadata": {},
   "outputs": [],
   "source": [
    "print(settings.to_json())"
   ]
  },
  {
   "cell_type": "markdown",
   "metadata": {},
   "source": [
    "## Evaluation\n",
    "During training we normally evaluate only a subset of the forecast scenarios to determine convergence of the solution. After or during training we can perform more detailed evaluations."
   ]
  },
  {
   "cell_type": "code",
   "execution_count": null,
   "metadata": {
    "scrolled": true
   },
   "outputs": [],
   "source": [
    "evaluation = client.evaluate(runs[-1], selected_forecast, settings)\n",
    "evaluation"
   ]
  },
  {
   "cell_type": "markdown",
   "metadata": {},
   "source": [
    "As with a trainig session, the evaluation is completed when the endTime is set."
   ]
  },
  {
   "cell_type": "code",
   "execution_count": null,
   "metadata": {},
   "outputs": [],
   "source": [
    "client.get_evaluations(new_project)"
   ]
  },
  {
   "cell_type": "markdown",
   "metadata": {},
   "source": [
    "We can plot the results of the evaluation"
   ]
  },
  {
   "cell_type": "code",
   "execution_count": null,
   "metadata": {
    "scrolled": false
   },
   "outputs": [],
   "source": [
    "client.plot_evaluation(evaluation)"
   ]
  },
  {
   "cell_type": "markdown",
   "metadata": {},
   "source": [
    "And for further processing, we can retrieve the result data as a pandas DataFrame"
   ]
  },
  {
   "cell_type": "code",
   "execution_count": null,
   "metadata": {
    "scrolled": true
   },
   "outputs": [],
   "source": [
    "df = client.get_evaluation(evaluation)\n",
    "df"
   ]
  },
  {
   "cell_type": "code",
   "execution_count": null,
   "metadata": {},
   "outputs": [],
   "source": [
    "df_mean = df"
   ]
  },
  {
   "cell_type": "code",
   "execution_count": null,
   "metadata": {},
   "outputs": [],
   "source": [
    "df_mean[\"Flørlivatn\"].plot(figsize=(20,10))\n",
    "#df_min_max[(\"Flørlivatn\", \"1990\")].plot(figsize=(20,10))"
   ]
  },
  {
   "cell_type": "code",
   "execution_count": null,
   "metadata": {},
   "outputs": [],
   "source": [
    "df_mean[\"Flørlivatn\"].plot(figsize=(20,10))\n"
   ]
  },
  {
   "cell_type": "code",
   "execution_count": null,
   "metadata": {},
   "outputs": [],
   "source": [
    "df_min_max[\"Flørlivatn\"].plot(figsize=(20,10))"
   ]
  },
  {
   "cell_type": "code",
   "execution_count": null,
   "metadata": {},
   "outputs": [],
   "source": [
    "def comp_enhs(vals, fac, mid_norm = 0.5):\n",
    "    minv = np.min(vals)\n",
    "    maxv = np.max(vals)\n",
    "    mid = minv + (maxv-minv)/2\n",
    "        \n",
    "    norm_vals = (vals - minv) / (maxv - minv)\n",
    "    pow_vals = pow(norm_vals, fac)\n",
    "\n",
    "    norm_vals = pow_vals * (maxv - minv) + minv\n",
    "    \n",
    "    if mid_norm is not None:\n",
    "        norm_vals = norm_vals - mid * mid_norm\n",
    "        \n",
    "    return norm_vals\n",
    "\n",
    "vals = [10,12,15,18, 22, 35, 40, 42, 43, 44, 33, 12, 23, 23, 11]\n",
    "vals = 5* np.sin(vals) + vals\n",
    "\n",
    "plt.plot(vals)\n",
    "plt.plot(comp_enhs(vals, 2, None))\n",
    "plt.plot(comp_enhs(vals, 2, 0.5))\n"
   ]
  },
  {
   "cell_type": "code",
   "execution_count": null,
   "metadata": {},
   "outputs": [],
   "source": [
    "print(vals)\n",
    "print(comp_enhs(vals, 2, None))"
   ]
  }
 ],
 "metadata": {
  "interpreter": {
   "hash": "503a771c280a3e7e45e8118261af5bfcd73633e65f571c68ea25aa45cfc168e7"
  },
  "kernelspec": {
   "display_name": "hps_env",
   "language": "python",
   "name": "hps_env"
  },
  "language_info": {
   "codemirror_mode": {
    "name": "ipython",
    "version": 3
   },
   "file_extension": ".py",
   "mimetype": "text/x-python",
   "name": "python",
   "nbconvert_exporter": "python",
   "pygments_lexer": "ipython3",
   "version": "3.7.15"
  },
  "toc": {
   "base_numbering": 1,
   "nav_menu": {},
   "number_sections": true,
   "sideBar": true,
   "skip_h1_title": false,
   "title_cell": "Table of Contents",
   "title_sidebar": "Contents",
   "toc_cell": false,
   "toc_position": {},
   "toc_section_display": true,
   "toc_window_display": false
  }
 },
 "nbformat": 4,
 "nbformat_minor": 4
}
