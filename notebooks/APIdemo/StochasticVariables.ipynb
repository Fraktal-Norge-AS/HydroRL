{
 "cells": [
  {
   "cell_type": "markdown",
   "metadata": {},
   "source": [
    "# Stochastic Variables\n",
    "\n",
    "The aim of the HydroRL model is to maximize the expected profits from generating electric power, given the uncertainty of inflow and energy price. In order for the model to learn, it interacts with the hydro system environment where it experiences different outcomes of the stochastic variables. The learned solution is thus highly dependent on how the stochastic variables are modeled, which we will outline in following.\n",
    "\n",
    "\n",
    "## Background\n"
   ]
  },
  {
   "cell_type": "code",
   "execution_count": null,
   "metadata": {
    "tags": [
     "remove-cell"
    ]
   },
   "outputs": [],
   "source": [
    "%config Completer.use_jedi = False"
   ]
  },
  {
   "cell_type": "code",
   "execution_count": null,
   "metadata": {
    "tags": [
     "remove-cell"
    ]
   },
   "outputs": [],
   "source": [
    "import pandas as pd\n",
    "pd.options.plotting.backend = \"plotly\"\n",
    "import plotly.graph_objects as go\n",
    "import matplotlib.pyplot as plt\n",
    "import numpy as np\n",
    "from pathlib import Path\n",
    "from collections import Counter\n",
    "from pathlib import Path\n",
    "import sys, os\n",
    "sys.path.insert(1, os.path.join(sys.path[0], '../..'))\n",
    "\n",
    "from core.timeindex import TimeIndexer, FromToTimeIndexer\n",
    "from hps.exogenous.inflow_and_price import InflowPriceForecastData, InflowPriceSampler\n",
    "from core.markov_chain import Noise"
   ]
  },
  {
   "cell_type": "code",
   "execution_count": null,
   "metadata": {
    "tags": [
     "remove-cell"
    ]
   },
   "outputs": [],
   "source": [
    "plotly_template=\"ggplot2\"\n",
    "n_clusters = 4\n",
    "sample_noise = Noise.StandardDev\n",
    "n_drawn_samples = 10"
   ]
  },
  {
   "cell_type": "code",
   "execution_count": null,
   "metadata": {
    "tags": [
     "remove-cell"
    ]
   },
   "outputs": [],
   "source": [
    "from hps_api_client.apiproxy  import ApiProxy\n",
    "from hps_api_client.apiclient import ApiClient"
   ]
  },
  {
   "cell_type": "code",
   "execution_count": null,
   "metadata": {
    "tags": [
     "remove-cell"
    ]
   },
   "outputs": [],
   "source": [
    "base_uri = \"http://leviathan:5400/api/v1/\"\n",
    "api_client = ApiClient(base_uri)\n",
    "client = ApiProxy(base_uri)"
   ]
  },
  {
   "cell_type": "code",
   "execution_count": null,
   "metadata": {
    "tags": [
     "remove-cell"
    ]
   },
   "outputs": [],
   "source": [
    "projects = client.get_projects()\n",
    "hydro_systems = client.get_hydro_systems()\n",
    "forecasts = client.get_forecasts(hydro_systems[2])\n",
    "forecasts"
   ]
  },
  {
   "cell_type": "code",
   "execution_count": null,
   "metadata": {
    "tags": [
     "remove-cell"
    ]
   },
   "outputs": [],
   "source": [
    "forecast_uid = forecasts.to_pandas()[\"uid\"][0]\n",
    "forecast_uid"
   ]
  },
  {
   "cell_type": "code",
   "execution_count": null,
   "metadata": {
    "tags": [
     "remove-cell"
    ]
   },
   "outputs": [],
   "source": [
    "def get_inflow_and_price(forecast_uid):\n",
    "    forecast_scenarios = api_client.get_forecast_scenarios(forecast_uid)\n",
    "    forecast_scenarios = forecast_scenarios[\"scenarios\"][0] \n",
    "    forecast_scenario = forecast_scenarios[0]\n",
    "    df = api_client.get_forecast_data(forecast_uid,forecast_scenario)\n",
    "\n",
    "    dfi = pd.DataFrame(df[\"inflowSeries\"][0], index=df[\"timeIndex\"][0], columns = [forecast_scenario])\n",
    "    dfi.index = pd.to_datetime(dfi.index)\n",
    "\n",
    "    dfp = pd.DataFrame(df[\"priceSeries\"][0], index=df[\"timeIndex\"][0], columns = [forecast_scenario])\n",
    "    dfp.index = pd.to_datetime(dfi.index)\n",
    "\n",
    "    for forecast_scenario in forecast_scenarios[1:]:\n",
    "        df = api_client.get_forecast_data(forecast_uid,forecast_scenario)\n",
    "        dfi[forecast_scenario] = df[\"inflowSeries\"][0]\n",
    "        dfp[forecast_scenario] = df[\"priceSeries\"][0]\n",
    "\n",
    "    return dfi, dfp"
   ]
  },
  {
   "cell_type": "code",
   "execution_count": null,
   "metadata": {
    "tags": [
     "remove-cell"
    ]
   },
   "outputs": [],
   "source": [
    "%%time\n",
    "dfi, dfp = get_inflow_and_price(forecast_uid)"
   ]
  },
  {
   "cell_type": "markdown",
   "metadata": {},
   "source": [
    "In order to provide an illustrative example, we will use some historical energy prices and inflows. We rearrange the data in order to obtain eight different scenarios that comprise our fictive forecast for what the inflow and energy price will be the next two years, given by the illustrations below.\n"
   ]
  },
  {
   "cell_type": "code",
   "execution_count": null,
   "metadata": {
    "tags": [
     "remove-input"
    ]
   },
   "outputs": [],
   "source": [
    "fig = dfi.plot(\n",
    "    title=\"\", labels=dict(index=\"Time\", value=\"Inflow [m3/s]\", variable=\"Historical year\"), template=plotly_template)\n",
    "fig.update_layout(title=\"\")\n",
    "fig.show()"
   ]
  },
  {
   "cell_type": "code",
   "execution_count": null,
   "metadata": {
    "tags": [
     "remove-input"
    ]
   },
   "outputs": [],
   "source": [
    "fig = dfp.plot(\n",
    "    title=\"\", labels=dict(index=\"Time\", value=\"Energy price [m3/s]\", variable=\"Historical year\"), template=plotly_template)\n",
    "fig.update_layout(title=\"\")\n",
    "fig.show()"
   ]
  },
  {
   "cell_type": "code",
   "execution_count": null,
   "metadata": {
    "tags": [
     "remove-cell"
    ]
   },
   "outputs": [],
   "source": [
    "fig, axs = plt.subplots(nrows=1, ncols=2, figsize=(15,5))\n",
    "\n",
    "axs[0].plot(dfi.index, dfp.values);\n",
    "axs[1].plot(dfi.index, dfi.values);"
   ]
  },
  {
   "cell_type": "markdown",
   "metadata": {},
   "source": [
    "## Time index\n",
    "We resample the forecast to a required time resolution. Say we want to train the model on a monthly basis, we get the following  inflow and energy prices after resampling."
   ]
  },
  {
   "cell_type": "code",
   "execution_count": null,
   "metadata": {
    "tags": [
     "remove-cell"
    ]
   },
   "outputs": [],
   "source": [
    "time_indexer = FromToTimeIndexer(dfi.index[0], dfi.index[-1], periods=24)\n",
    "forecast_data = InflowPriceForecastData(\"test\", dfi, dfp)\n",
    "ip_sampler = InflowPriceSampler(forecast_data, time_indexer, n_clusters=n_clusters, sample_noise=sample_noise)"
   ]
  },
  {
   "cell_type": "code",
   "execution_count": null,
   "metadata": {
    "tags": [
     "remove-input"
    ]
   },
   "outputs": [],
   "source": [
    "fig = ip_sampler.df_i.plot(\n",
    "    title=\"\", labels=dict(index=\"Time\", value=\"Inflow [m3/s]\", variable=\"Historical year\"), template=plotly_template)\n",
    "fig.show()"
   ]
  },
  {
   "cell_type": "code",
   "execution_count": null,
   "metadata": {
    "tags": [
     "remove-input"
    ]
   },
   "outputs": [],
   "source": [
    "ip_sampler.df_p.plot(\n",
    "    title=\"\", labels=dict(index=\"Time\", value=\"Energy price [m3/s]\", variable=\"Historical year\"), template=plotly_template)"
   ]
  },
  {
   "cell_type": "markdown",
   "metadata": {},
   "source": [
    "## The Markov Chain\n",
    "The HPS RL model requires a significant amount of training data. We generate the training data by sampling from a Markov chain that is generated from the resampled inflow and energy price data. The Markov chain is defined as \n",
    "\n",
    "\\begin{equation}\n",
    "    P(p_t = \\chi^j_t \\vert p_{t-1}=\\chi^i_{t-1})=\\rho_{ij}(t), \\forall i, j \\in M(t),\n",
    "\\end{equation}\n",
    "\n",
    "where the transition probability, $\\rho_{ij}(t)$, represents the probability of transitioning from node $i$ in time stage $t-1$  with uncertain data $\\chi^i_{t-1}$ to node $j$ in time stage $t$. $p_t$ represents the realized data in stage $t$. $M(t)$ defines a set of nodes in time stage $t$.\n",
    "\n",
    "The examples below illustrates a Markov chain with four nodes per time stage for the inflow and energy price data above. Note that the size of the markers illustrate the unconditioned weight of the nodes in a given time stage.\n"
   ]
  },
  {
   "cell_type": "code",
   "execution_count": null,
   "metadata": {
    "tags": [
     "remove-cell"
    ]
   },
   "outputs": [],
   "source": [
    "# View clusters and samples\n",
    "inf_clusters = np.array([cluster.cluster_centers_[:,1] for cluster in ip_sampler.forecast_generator.cls_])\n",
    "price_clusters = np.array([cluster.cluster_centers_[:,0] for cluster in ip_sampler.forecast_generator.cls_])\n",
    "counters = [Counter(cluster.labels_) for cluster in ip_sampler.forecast_generator.cls_]\n",
    "n_steps, n_clusters = price_clusters.shape\n",
    "\n",
    "fig, axs = plt.subplots(nrows=1, ncols=2, figsize=(15,5))\n",
    "\n",
    "axs[0].plot(ip_sampler.df_p.index, ip_sampler.df_p.values)\n",
    "for i in range(n_clusters):\n",
    "    for t in range(n_steps):\n",
    "        axs[0].scatter(x=[time_indexer.index[t]], y=[price_clusters[t,i]], s=5*counters[t][i], color='k', zorder=1)\n",
    "\n",
    "axs[1].plot(ip_sampler.df_i.index, ip_sampler.df_i.values)\n",
    "for i in range(n_clusters):\n",
    "    for t in range(n_steps):\n",
    "        axs[1].scatter(x=[time_indexer.index[t]], y=[inf_clusters[t,i]], s=5*counters[t][i], color='k', zorder=1)"
   ]
  },
  {
   "cell_type": "code",
   "execution_count": null,
   "metadata": {
    "tags": [
     "remove-cell"
    ]
   },
   "outputs": [],
   "source": [
    "price_transitions = []\n",
    "time_transitions = []\n",
    "for i, (prev, curr) in enumerate(zip(price_clusters[:-1], price_clusters[1:])):\n",
    "    for c in curr:\n",
    "        for p in prev:\n",
    "            price_transitions.append([p, c])\n",
    "            time_transitions.append([time_indexer.index[i], time_indexer.index[i+1]])\n",
    "            \n",
    "inflow_transitions = []\n",
    "for prev, curr in zip(inf_clusters[:-1], inf_clusters[1:]):\n",
    "    for c in curr:\n",
    "        for p in prev:\n",
    "            inflow_transitions.append([p, c])            "
   ]
  },
  {
   "cell_type": "code",
   "execution_count": null,
   "metadata": {
    "tags": [
     "remove-cell"
    ]
   },
   "outputs": [],
   "source": [
    "std_dev = np.array(ip_sampler.forecast_generator.get_std_dev())\n",
    "price_std = std_dev[:,0]\n",
    "inflow_std = std_dev[:,1]"
   ]
  },
  {
   "cell_type": "code",
   "execution_count": null,
   "metadata": {
    "tags": [
     "remove-input"
    ]
   },
   "outputs": [],
   "source": [
    "data = []\n",
    "for x, y in zip(time_transitions, price_transitions):\n",
    "    data.append(\n",
    "        go.Scatter(\n",
    "            x=x,\n",
    "            y=y,\n",
    "            mode='lines',\n",
    "            line=dict(width=0.1, color='black'),\n",
    "            showlegend=False\n",
    "        )\n",
    "    )\n",
    "\n",
    "index = [i for i in time_indexer.index for _ in range(n_clusters)]\n",
    "size = np.array([[i[1] for i in sorted(cnt.items())] for cnt in counters]).flatten()*4\n",
    "\n",
    "data.append(\n",
    "    go.Scatter(\n",
    "        x=time_indexer.index,\n",
    "        y=ip_sampler.sample_max[:,0],\n",
    "        mode='lines',\n",
    "        line=dict(width=1, color='black'),\n",
    "        name=\"Max value\"\n",
    "    )\n",
    ")\n",
    "data.append(\n",
    "    go.Scatter(\n",
    "        x=time_indexer.index,\n",
    "        y=ip_sampler.sample_min[:,0],\n",
    "        mode='lines',\n",
    "        line=dict(width=1, color='black'),\n",
    "        name=\"Min value\"\n",
    "    )\n",
    ")\n",
    "data.append(\n",
    "    go.Scatter(\n",
    "        x= index,\n",
    "        y=price_clusters.flatten(),\n",
    "        mode='markers',\n",
    "        marker=dict(size=size),\n",
    "        name='Clusters'\n",
    "    )\n",
    ")\n",
    "price_lower = price_clusters.min(axis=1) - price_std\n",
    "price_upper = price_clusters.max(axis=1) + price_std\n",
    "price_lower = price_lower[::-1]\n",
    "\n",
    "data.insert(0,\n",
    "    go.Scatter(\n",
    "        x=time_indexer.index.tolist() + time_indexer.index[::-1].tolist(),\n",
    "        y=np.concatenate((np.flip(price_lower, 0), np.flip(price_upper, 0)), axis=0),\n",
    "        name=\"1 std. dev.\",\n",
    "        showlegend=True,\n",
    "        fill=\"toself\",\n",
    "        fillcolor=\"grey\",#'rgba(0,176,246,0.2)',\n",
    "        line_color='rgba(255,255,255,0)',\n",
    "        opacity=0.1\n",
    "    )\n",
    ")\n",
    "\n",
    "fig = go.Figure(data=data)\n",
    "fig.update_layout(\n",
    "    template=plotly_template, xaxis=dict(title=\"Time\"), yaxis=dict(title=\"Energy price [EUR/MWh]\"), showlegend=True)\n",
    "fig.show()"
   ]
  },
  {
   "cell_type": "code",
   "execution_count": null,
   "metadata": {
    "tags": [
     "remove-input"
    ]
   },
   "outputs": [],
   "source": [
    "data = []\n",
    "for x, y in zip(time_transitions, inflow_transitions):\n",
    "    data.append(\n",
    "        go.Scatter(\n",
    "            x=x,\n",
    "            y=y,\n",
    "            mode='lines',\n",
    "            line=dict(width=0.1, color='black'),\n",
    "            showlegend=False\n",
    "        )\n",
    "    )\n",
    "    \n",
    "\n",
    "inflow_lower = inf_clusters.min(axis=1) - inflow_std\n",
    "inflow_upper = inf_clusters.max(axis=1) + inflow_std\n",
    "inflow_lower = inflow_lower[::-1]\n",
    "\n",
    "data.append(\n",
    "    go.Scatter(\n",
    "        x=time_indexer.index,\n",
    "        y=ip_sampler.sample_max[:,1],\n",
    "        mode='lines',\n",
    "        line=dict(width=1, color='black'),\n",
    "        name=\"Max value\"\n",
    "    )\n",
    ")\n",
    "data.append(\n",
    "    go.Scatter(\n",
    "        x=time_indexer.index,\n",
    "        y=ip_sampler.sample_min[:,1],\n",
    "        mode='lines',\n",
    "        line=dict(width=1, color='black'),\n",
    "        name=\"Min value\"\n",
    "    )\n",
    ")\n",
    "\n",
    "\n",
    "data.insert(0,\n",
    "    go.Scatter(\n",
    "        x=time_indexer.index.tolist() + time_indexer.index[::-1].tolist(),\n",
    "        y=np.concatenate((np.flip(inflow_lower, 0), np.flip(inflow_upper, 0)), axis=0),\n",
    "        name=\"1 std. dev.\",\n",
    "        showlegend=True,\n",
    "        fill=\"toself\",\n",
    "        fillcolor=\"grey\",#'rgba(0,176,246,0.2)',\n",
    "        line_color='rgba(255,255,255,0)',\n",
    "        opacity=0.1\n",
    "    )\n",
    ")\n",
    "\n",
    "data.append(go.Scatter(\n",
    "    x= index,\n",
    "    y=inf_clusters.flatten(),\n",
    "    mode='markers',\n",
    "    marker=dict(size=size),\n",
    "    name=\"Clusters\"\n",
    "))\n",
    "\n",
    "fig = go.Figure(data=data)\n",
    "fig.update_layout(\n",
    "    template=plotly_template, xaxis=dict(title=\"Time\"), yaxis=dict(title=\"Inflow [m3/s]\"), showlegend=True)\n",
    "fig.show()"
   ]
  },
  {
   "cell_type": "markdown",
   "metadata": {},
   "source": [
    "The shaded area denoted by 1 std. dev represents the one standard deviation between the nodes in the Markov chain and the underlying data. Thus giving an indication on how well the Markov chain fits the underlying data. There are three different configuration one can choose when sampling from the Markov chain. They are defined by setting the noise value to either \"Off\", \"White\" or \"StandardDev\" in the *RunSettings* object of the Web API. Their behavior is defined as\n",
    "\n",
    "* \"Off\"\n",
    "    * The sampled values from the Markov chain is given by the value of the nodes.\n",
    "* \"White\"\n",
    "    * White noise ($N(0,1)$) is added to the sampled values from the Markov chain.\n",
    "* \"StandardDev\"\n",
    "    * Noise defined by $N(0,\\sigma^2)$ is added to the sampled values from the Markov chain.\n",
    "    \n",
    "Sine adding noise to the Markov chain values might be non-positive the values are clipped by some bound. The bounds are given such that the inflow has to be non-negative and the expected inflow is not shifted. The energy price is clipped such that only non-negative values are observed.\n",
    "\n",
    "Below is an illustration with 10 sampled values with the noise parameter set to \"StandardDev\"."
   ]
  },
  {
   "cell_type": "code",
   "execution_count": null,
   "metadata": {
    "tags": [
     "remove-cell"
    ]
   },
   "outputs": [],
   "source": [
    "sampled_episodes = []\n",
    "for i in range(n_drawn_samples):\n",
    "    episode, name = ip_sampler.sample_episode()\n",
    "    sampled_episodes.append(episode)"
   ]
  },
  {
   "cell_type": "code",
   "execution_count": null,
   "metadata": {
    "tags": [
     "remove-input"
    ]
   },
   "outputs": [],
   "source": [
    "data = []\n",
    "\n",
    "for x, y in zip(time_transitions, inflow_transitions):\n",
    "    data.append(\n",
    "        go.Scatter(\n",
    "            x=x,\n",
    "            y=y,\n",
    "            mode='lines',\n",
    "            line=dict(width=0.1, color='black'),\n",
    "            showlegend=False\n",
    "        )\n",
    "    )\n",
    "    \n",
    "\n",
    "inflow_lower = inf_clusters.min(axis=1) - inflow_std\n",
    "inflow_upper = inf_clusters.max(axis=1) + inflow_std\n",
    "inflow_lower = inflow_lower[::-1]\n",
    "\n",
    "data.append(\n",
    "    go.Scatter(\n",
    "        x=time_indexer.index,\n",
    "        y=ip_sampler.sample_max[:,1],\n",
    "        mode='lines',\n",
    "        line=dict(width=1, color='black'),\n",
    "        name=\"Max value\"\n",
    "    )\n",
    ")\n",
    "data.append(\n",
    "    go.Scatter(\n",
    "        x=time_indexer.index,\n",
    "        y=ip_sampler.sample_min[:,1],\n",
    "        mode='lines',\n",
    "        line=dict(width=1, color='black'),\n",
    "        name=\"Min value\"\n",
    "    )\n",
    ")\n",
    "\n",
    "\n",
    "data.insert(0,\n",
    "    go.Scatter(\n",
    "        x=time_indexer.index.tolist() + time_indexer.index[::-1].tolist(),\n",
    "        y=np.concatenate((np.flip(inflow_lower, 0), np.flip(inflow_upper, 0)), axis=0),\n",
    "        name=\"1 std. dev.\",\n",
    "        showlegend=True,\n",
    "        fill=\"toself\",\n",
    "        fillcolor=\"grey\",#'rgba(0,176,246,0.2)',\n",
    "        line_color='rgba(255,255,255,0)',\n",
    "        opacity=0.1\n",
    "    )\n",
    ")\n",
    "\n",
    "data.append(go.Scatter(\n",
    "    x= index,\n",
    "    y=inf_clusters.flatten(),\n",
    "    mode='markers',\n",
    "    marker=dict(size=size),\n",
    "    name=\"Clusters\"\n",
    "))\n",
    "\n",
    "if True:\n",
    "    for i, episode in enumerate(sampled_episodes):\n",
    "        data.append(go.Scatter(\n",
    "            x= time_indexer.index,\n",
    "            y=episode[:,1],\n",
    "            name=f\"Sample {i}\"\n",
    "        ))\n",
    "\n",
    "# data+=orig_data\n",
    "fig = go.Figure(data=data)\n",
    "fig.update_layout(\n",
    "    template=plotly_template, xaxis=dict(title=\"Time\"), yaxis=dict(title=\"Inflow [m3/s]\"), showlegend=True)\n",
    "fig.show()"
   ]
  },
  {
   "cell_type": "code",
   "execution_count": null,
   "metadata": {
    "tags": [
     "remove-input"
    ]
   },
   "outputs": [],
   "source": [
    "data = []\n",
    "a=2\n",
    "\n",
    "for x, y in zip(time_transitions, price_transitions):\n",
    "    data.append(\n",
    "        go.Scatter(\n",
    "            x=x,\n",
    "            y=y,\n",
    "            mode='lines',\n",
    "            line=dict(width=0.1, color='black'),\n",
    "            showlegend=False\n",
    "        )\n",
    "    )\n",
    "\n",
    "index = [i for i in time_indexer.index for _ in range(n_clusters)]\n",
    "size = np.array([[i[1] for i in sorted(cnt.items())] for cnt in counters]).flatten()*4\n",
    "\n",
    "data.append(\n",
    "    go.Scatter(\n",
    "        x=time_indexer.index,\n",
    "        y=ip_sampler.sample_max[:,0],\n",
    "        mode='lines',\n",
    "        line=dict(width=1, color='black'),\n",
    "        name=\"Max value\"\n",
    "    )\n",
    ")\n",
    "data.append(\n",
    "    go.Scatter(\n",
    "        x=time_indexer.index,\n",
    "        y=ip_sampler.sample_min[:,0],\n",
    "        mode='lines',\n",
    "        line=dict(width=1, color='black'),\n",
    "        name=\"Min value\"\n",
    "    )\n",
    ")\n",
    "data.append(\n",
    "    go.Scatter(\n",
    "        x= index,\n",
    "        y=price_clusters.flatten(),\n",
    "        mode='markers',\n",
    "        marker=dict(size=size),\n",
    "        name='Clusters'\n",
    "    )\n",
    ")\n",
    "price_lower = price_clusters.min(axis=1) - price_std\n",
    "price_upper = price_clusters.max(axis=1) + price_std\n",
    "price_lower = price_lower[::-1]\n",
    "\n",
    "data.insert(0,\n",
    "    go.Scatter(\n",
    "        x=time_indexer.index.tolist() + time_indexer.index[::-1].tolist(),\n",
    "        y=np.concatenate((np.flip(price_lower, 0), np.flip(price_upper, 0)), axis=0),\n",
    "        name=\"1 std. dev.\",\n",
    "        showlegend=True,\n",
    "        fill=\"toself\",\n",
    "        fillcolor=\"grey\",#'rgba(0,176,246,0.2)',\n",
    "        line_color='rgba(255,255,255,0)',\n",
    "        opacity=0.1\n",
    "    )\n",
    ")\n",
    "\n",
    "if True:\n",
    "    for i, episode in enumerate(sampled_episodes):\n",
    "        data.append(go.Scatter(\n",
    "            x= time_indexer.index,\n",
    "            y=episode[:,0],\n",
    "            name=f\"Sample {i}\"\n",
    "        ))\n",
    "\n",
    "fig = go.FigureWidget(data=data)\n",
    "fig.update_layout(\n",
    "    template=plotly_template, xaxis=dict(title=\"Time\"), yaxis=dict(title=\"Energy price [EUR/MWh]\"), showlegend=True)\n",
    "fig.show(renderer=\"notebook\")"
   ]
  },
  {
   "cell_type": "code",
   "execution_count": null,
   "metadata": {},
   "outputs": [],
   "source": []
  }
 ],
 "metadata": {
  "celltoolbar": "Tags",
  "interpreter": {
   "hash": "0c22342812214b53b30b23927ca908718e7f712e8b9f02ce1a3f5fa2f2ac3e96"
  },
  "kernelspec": {
   "display_name": "hps_env",
   "language": "python",
   "name": "hps_env"
  },
  "language_info": {
   "codemirror_mode": {
    "name": "ipython",
    "version": 3
   },
   "file_extension": ".py",
   "mimetype": "text/x-python",
   "name": "python",
   "nbconvert_exporter": "python",
   "pygments_lexer": "ipython3",
   "version": "3.7.15"
  },
  "toc": {
   "base_numbering": 1,
   "nav_menu": {},
   "number_sections": true,
   "sideBar": true,
   "skip_h1_title": false,
   "title_cell": "Table of Contents",
   "title_sidebar": "Contents",
   "toc_cell": false,
   "toc_position": {},
   "toc_section_display": true,
   "toc_window_display": true
  },
  "widgets": {
   "application/vnd.jupyter.widget-state+json": {
    "state": {},
    "version_major": 2,
    "version_minor": 0
   }
  }
 },
 "nbformat": 4,
 "nbformat_minor": 2
}
